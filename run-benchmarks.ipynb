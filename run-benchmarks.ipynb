{
 "cells": [
  {
   "cell_type": "markdown",
   "id": "7a5ad797-964b-4f80-8b4a-62213fce848b",
   "metadata": {},
   "source": [
    "# Benchmark and Compare CIC17 base & improved datasets"
   ]
  },
  {
   "cell_type": "code",
   "execution_count": 15,
   "id": "6fbf7d4d-5626-46c0-8cd5-31aa341d8e0b",
   "metadata": {},
   "outputs": [],
   "source": [
    "import subprocess\n",
    "import os\n",
    "from concurrent.futures import ThreadPoolExecutor, ProcessPoolExecutor, as_completed\n",
    "import threading\n",
    "import time\n",
    "import numpy as np\n",
    "import random\n",
    "\n",
    "np.random.seed(42)\n",
    "random.seed(42)"
   ]
  },
  {
   "cell_type": "markdown",
   "id": "3bae3a0c-ab5f-4975-9cec-3bf22f29e712",
   "metadata": {},
   "source": [
    "## Preparation"
   ]
  },
  {
   "cell_type": "markdown",
   "id": "b813b9c9-4dde-4b9f-8a88-a4ebc4753259",
   "metadata": {},
   "source": [
    "Let's prepare a function that helps us running the tests for a given (dataset, target, test) tuple. We define also a function to run things in parallel, since the benchmarks take a while to complete"
   ]
  },
  {
   "cell_type": "code",
   "execution_count": 16,
   "id": "b5fe5aed-b3fe-4035-afee-83f7ee3e1135",
   "metadata": {},
   "outputs": [],
   "source": [
    "# lock for thread-safe progress updates\n",
    "progress_lock = threading.Lock()\n",
    "\n",
    "def run_benchmark(metadata_path: str, results_path: str, target: str, data_folder: str, test_name: str) -> str:\n",
    "    \"\"\"\n",
    "    Run a single benchmark test from BadSmells repository.\n",
    "    \n",
    "    Args:\n",
    "        metadata_path (str): Path to the metadata JSON file.\n",
    "        results_path (str): Path to save the benchmark results.\n",
    "        target (str): The target attack class (e.g., \"DoS attacks-Hulk\").\n",
    "        data_folder (str): Path to the dataset folder (e.g., \"data/CIC18/\").\n",
    "        test_name (str): The specific test to run (e.g., \"CosineTest\").\n",
    "        \n",
    "    Returns:\n",
    "        str: Result message indicating success or failure.\n",
    "    \"\"\"\n",
    "    start_time = time.time()\n",
    "    command = [\n",
    "        \"python3\",\n",
    "        \"./DataBadSmells/src/netstats.py\",\n",
    "        \"--metadata\", metadata_path,\n",
    "        \"--results\", results_path,\n",
    "        \"--target\", target,\n",
    "        \"--folder\",\n",
    "        \"--csv\", data_folder,\n",
    "        \"--test\", test_name\n",
    "    ]\n",
    "    \n",
    "    try:\n",
    "        result = subprocess.run(command, capture_output=True, text=True)\n",
    "        elapsed = time.time() - start_time\n",
    "        if result.returncode == 0:\n",
    "            return f\"Success: {test_name} for {target} (Elapsed time: {elapsed:.2f}s)\"\n",
    "        else:\n",
    "            return f\"Error: {test_name} for {target} (Elapsed time: {elapsed:.2f}s)\\n{result.stderr}\"\n",
    "    \n",
    "    except Exception as e:\n",
    "        elapsed = time.time() - start_time\n",
    "        return f\"Exception occurred while running {test_name} for {target} (Elapsed time: {elapsed:.2f}s): {e}\"\n",
    "\n",
    "def run_all_benchmarks_parallel(metadata_path: str, results_path: str, data_folder: str, targets: list[str], tests: list[str], max_workers: int = 8):\n",
    "    \"\"\"\n",
    "    Run benchmarks for all targets and tests in parallel with a progress indicator.\n",
    "    \n",
    "    Args:\n",
    "        metadata_path (str): Path to the metadata JSON file.\n",
    "        results_path (str): Path to save results.\n",
    "        data_folder (str): Path to the dataset folder.\n",
    "        targets (list): List of target attack classes.\n",
    "        tests (list): List of tests to run for each target.\n",
    "        max_workers (int): Maximum number of parallel workers.\n",
    "    \"\"\"\n",
    "    total_tasks = len(targets) * len(tests)\n",
    "    completed_tasks = 0\n",
    "    overall_start = time.time()\n",
    "    \n",
    "    with ThreadPoolExecutor(max_workers=max_workers) as executor:\n",
    "        future_to_task = {\n",
    "            executor.submit(run_benchmark, metadata_path, results_path, target, data_folder, test): (target, test)\n",
    "            for target in targets\n",
    "            for test in tests\n",
    "        }\n",
    "        \n",
    "        for future in as_completed(future_to_task):\n",
    "            result_message = future.result()\n",
    "            target, test = future_to_task[future]\n",
    "            \n",
    "            # update progress\n",
    "            with progress_lock:\n",
    "                completed_tasks += 1\n",
    "                percentage = (completed_tasks / total_tasks) * 100\n",
    "                print(f\"[{percentage:.2f}%] {result_message}\")\n",
    "\n",
    "    # final elapsed time\n",
    "    overall_elapsed = time.time() - overall_start\n",
    "    print(f\"\\nAll benchmarks completed in {overall_elapsed:.2f}s.\")"
   ]
  },
  {
   "cell_type": "markdown",
   "id": "3fb88ecf-dcea-408e-b879-74a17f370aa1",
   "metadata": {},
   "source": [
    "### CIC17"
   ]
  },
  {
   "cell_type": "markdown",
   "id": "9d0b6e7d-aa67-4201-ad17-804e445f1312",
   "metadata": {},
   "source": [
    "We prepare the attack targets on which we want to run our benchmarks on and which tests we actually want to perform. To know more, visit the [https://github.com/DataBadSmells/DataBadSmells](https://github.com/DataBadSmells/DataBadSmells) repository, since the codebase is from there."
   ]
  },
  {
   "cell_type": "code",
   "execution_count": 18,
   "id": "004dd36e-fa9c-4317-82cf-a99fa97f35b5",
   "metadata": {},
   "outputs": [],
   "source": [
    "cic17_targets = [\n",
    "    \"DoS Hulk\",\n",
    "    \"DDoS\",\n",
    "    \"DoS GoldenEye\",\n",
    "    \"FTP Patator\",\n",
    "    \"SSH Patator\",\n",
    "    \"Port Scan\",\n",
    "    \"DoS slowloris\",\n",
    "    \"DoS Slowhttptest\",\n",
    "    \"Bot\",\n",
    "    \"Web Attack - Brute Force\",\n",
    "    \"Infiltration\",\n",
    "    \"Web Attack - Sql Injection\",\n",
    "    \"Heartbleed\"\n",
    "]\n",
    "\n",
    "tests = [\n",
    "   # \"CosineTest\", # PDDc (Poor Data Diversity), TCc (Traffic Collapse)\n",
    "   # \"PortTest\", # UGTc (Unclear Ground Truth)\n",
    "   # \"SingleFeatureEfficacyTest\", # HDFc (Highly Dependent Features)\n",
    "   # \"NearestNeighboursTest\" # WLc (Wrong Label Smell),\n",
    "    \"CompleteTest\"\n",
    "]"
   ]
  },
  {
   "cell_type": "markdown",
   "id": "53d2c9a2-f61b-4aae-a248-7daeeba627e7",
   "metadata": {},
   "source": [
    "## CIC17 - base version"
   ]
  },
  {
   "cell_type": "markdown",
   "id": "d11c1bb9-1fc4-41a5-aba0-6f7163458602",
   "metadata": {},
   "source": [
    "First, run the tests over the original cic17 dataset."
   ]
  },
  {
   "cell_type": "code",
   "execution_count": 4,
   "id": "87ae7c56-ba16-4ea6-99cb-9de4a2f86eed",
   "metadata": {},
   "outputs": [],
   "source": [
    "cic17_base_metadata_path = \"./DataBadSmells/metadata/cic/metadata.json\"\n",
    "cic17_base_results_path = \"./results/CIC17_base_first_run/\"\n",
    "cic17_base_data_folder = \"./data/CIC17/\""
   ]
  },
  {
   "cell_type": "code",
   "execution_count": 28,
   "id": "54d45e9e-9862-48e6-af24-749ac005f3c8",
   "metadata": {},
   "outputs": [
    {
     "name": "stderr",
     "output_type": "stream",
     "text": [
      "Python(66626) MallocStackLogging: can't turn off malloc stack logging because it was not enabled.\n",
      "Python(66628) MallocStackLogging: can't turn off malloc stack logging because it was not enabled.\n",
      "Python(66629) MallocStackLogging: can't turn off malloc stack logging because it was not enabled.\n",
      "Python(66630) MallocStackLogging: can't turn off malloc stack logging because it was not enabled.\n",
      "Python(66631) MallocStackLogging: can't turn off malloc stack logging because it was not enabled.\n",
      "Python(66632) MallocStackLogging: can't turn off malloc stack logging because it was not enabled.\n",
      "Python(66633) MallocStackLogging: can't turn off malloc stack logging because it was not enabled.\n",
      "Python(66634) MallocStackLogging: can't turn off malloc stack logging because it was not enabled.\n"
     ]
    },
    {
     "name": "stdout",
     "output_type": "stream",
     "text": [
      "[7.69%] Success: CompleteTest for FTP Patator (Elapsed time: 822.20s)\n"
     ]
    },
    {
     "name": "stderr",
     "output_type": "stream",
     "text": [
      "Python(70530) MallocStackLogging: can't turn off malloc stack logging because it was not enabled.\n"
     ]
    },
    {
     "name": "stdout",
     "output_type": "stream",
     "text": [
      "[15.38%] Success: CompleteTest for Port Scan (Elapsed time: 969.21s)\n"
     ]
    },
    {
     "name": "stderr",
     "output_type": "stream",
     "text": [
      "Python(71224) MallocStackLogging: can't turn off malloc stack logging because it was not enabled.\n"
     ]
    },
    {
     "name": "stdout",
     "output_type": "stream",
     "text": [
      "[23.08%] Success: CompleteTest for SSH Patator (Elapsed time: 982.79s)\n"
     ]
    },
    {
     "name": "stderr",
     "output_type": "stream",
     "text": [
      "Python(71288) MallocStackLogging: can't turn off malloc stack logging because it was not enabled.\n"
     ]
    },
    {
     "name": "stdout",
     "output_type": "stream",
     "text": [
      "[30.77%] Success: CompleteTest for Web Attack - Brute Force (Elapsed time: 786.18s)\n"
     ]
    },
    {
     "name": "stderr",
     "output_type": "stream",
     "text": [
      "Python(74968) MallocStackLogging: can't turn off malloc stack logging because it was not enabled.\n"
     ]
    },
    {
     "name": "stdout",
     "output_type": "stream",
     "text": [
      "[38.46%] Success: CompleteTest for DoS slowloris (Elapsed time: 2317.50s)\n"
     ]
    },
    {
     "name": "stderr",
     "output_type": "stream",
     "text": [
      "Python(77536) MallocStackLogging: can't turn off malloc stack logging because it was not enabled.\n"
     ]
    },
    {
     "name": "stdout",
     "output_type": "stream",
     "text": [
      "[46.15%] Success: CompleteTest for DoS GoldenEye (Elapsed time: 2475.75s)\n",
      "[53.85%] Success: CompleteTest for DoS Slowhttptest (Elapsed time: 2562.64s)\n",
      "[61.54%] Success: CompleteTest for Web Attack - Sql Injection (Elapsed time: 833.02s)\n",
      "[69.23%] Success: CompleteTest for Infiltration (Elapsed time: 1618.45s)\n",
      "[76.92%] Success: CompleteTest for Bot (Elapsed time: 1953.22s)\n",
      "[84.62%] Success: CompleteTest for DDoS (Elapsed time: 2953.56s)\n",
      "[92.31%] Success: CompleteTest for DoS Hulk (Elapsed time: 3068.92s)\n",
      "[100.00%] Success: CompleteTest for Heartbleed (Elapsed time: 786.59s)\n",
      "\n",
      "All benchmarks completed in 3104.12s.\n"
     ]
    }
   ],
   "source": [
    "run_all_benchmarks_parallel(cic17_base_metadata_path, \"./results/CIC17_base_first_run/\", cic17_base_data_folder, cic17_targets, tests)"
   ]
  },
  {
   "cell_type": "markdown",
   "id": "00453748-4b28-430c-914e-da25ccef735e",
   "metadata": {},
   "source": [
    "## CIC17 - improved version"
   ]
  },
  {
   "cell_type": "markdown",
   "id": "0b065308-4b5b-4b9f-9b91-8297c66e25d7",
   "metadata": {},
   "source": [
    "Then we can proceed on running the tests over the improved cic 17 dataset version. Note that since the tests make use of machine learning models we perform multiple runs of them and aggregate them at the end, taking the mean for each heuristic measure."
   ]
  },
  {
   "cell_type": "code",
   "execution_count": 7,
   "id": "7d184679-6d2a-4529-a152-a52a4b257650",
   "metadata": {},
   "outputs": [],
   "source": [
    "run_results_path = [\n",
    "    './results/CIC17_improved_first_run/',\n",
    "    './results/CIC17_improved_second_run/',\n",
    "    './results/CIC17_improved_third_run/'\n",
    "]"
   ]
  },
  {
   "cell_type": "code",
   "execution_count": 6,
   "id": "c9a70228-d1f7-417b-9677-9cca8dcec5a3",
   "metadata": {},
   "outputs": [],
   "source": [
    "cic17_improved_metadata_path = \"./DataBadSmells/metadata/cic/metadata_improved.json\"\n",
    "cic17_improved_data_folder = \"./data/CIC17_improved/\""
   ]
  },
  {
   "cell_type": "code",
   "execution_count": null,
   "id": "92cd4b52-1f8e-48c2-a5a8-9de5c65ad1e2",
   "metadata": {},
   "outputs": [],
   "source": [
    "for run in run_results_path:\n",
    "    run_all_benchmarks_parallel(cic17_improved_metadata_path, run, cic17_improved_data_folder, cic17_targets, tests)"
   ]
  }
 ],
 "metadata": {
  "kernelspec": {
   "display_name": "Python 3 (ipykernel)",
   "language": "python",
   "name": "python3"
  },
  "language_info": {
   "codemirror_mode": {
    "name": "ipython",
    "version": 3
   },
   "file_extension": ".py",
   "mimetype": "text/x-python",
   "name": "python",
   "nbconvert_exporter": "python",
   "pygments_lexer": "ipython3",
   "version": "3.11.11"
  }
 },
 "nbformat": 4,
 "nbformat_minor": 5
}
